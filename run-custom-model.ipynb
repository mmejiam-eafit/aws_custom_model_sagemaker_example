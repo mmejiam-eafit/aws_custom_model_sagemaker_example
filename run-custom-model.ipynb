{
 "cells": [
  {
   "cell_type": "code",
   "execution_count": 1,
   "metadata": {},
   "outputs": [],
   "source": [
    "import sagemaker\n"
   ]
  },
  {
   "cell_type": "code",
   "execution_count": 2,
   "metadata": {},
   "outputs": [],
   "source": [
    "#Create a sagemaker session to be able to upload data to s3\n",
    "import boto3\n",
    "sagemaker_session = sagemaker.Session()"
   ]
  },
  {
   "cell_type": "code",
   "execution_count": 3,
   "metadata": {},
   "outputs": [],
   "source": [
    "output_bucket = sagemaker.Session().default_bucket()\n",
    "output_prefix = \"sagemaker/pruning_experiment_incremental\"\n",
    "output_bucket_path = f\"s3://{output_bucket}\""
   ]
  },
  {
   "cell_type": "code",
   "execution_count": 4,
   "metadata": {},
   "outputs": [
    {
     "name": "stderr",
     "output_type": "stream",
     "text": [
      "Couldn't call 'get_role' to get Role ARN from role name cli_user to get Role path.\n"
     ]
    },
    {
     "ename": "ValueError",
     "evalue": "The current AWS identity is not a role: arn:aws:iam::056057680849:user/cli_user, therefore it cannot be used as a SageMaker execution role",
     "output_type": "error",
     "traceback": [
      "\u001B[1;31m---------------------------------------------------------------------------\u001B[0m",
      "\u001B[1;31mValueError\u001B[0m                                Traceback (most recent call last)",
      "File \u001B[1;32m<timed exec>:8\u001B[0m\n",
      "File \u001B[1;32mD:\\Documents\\anaconda3\\envs\\my_chexnet_train\\lib\\site-packages\\sagemaker\\session.py:4410\u001B[0m, in \u001B[0;36mget_execution_role\u001B[1;34m(sagemaker_session)\u001B[0m\n\u001B[0;32m   4405\u001B[0m     \u001B[38;5;28;01mreturn\u001B[39;00m arn\n\u001B[0;32m   4406\u001B[0m message \u001B[38;5;241m=\u001B[39m (\n\u001B[0;32m   4407\u001B[0m     \u001B[38;5;124m\"\u001B[39m\u001B[38;5;124mThe current AWS identity is not a role: \u001B[39m\u001B[38;5;132;01m{}\u001B[39;00m\u001B[38;5;124m, therefore it cannot be used as a \u001B[39m\u001B[38;5;124m\"\u001B[39m\n\u001B[0;32m   4408\u001B[0m     \u001B[38;5;124m\"\u001B[39m\u001B[38;5;124mSageMaker execution role\u001B[39m\u001B[38;5;124m\"\u001B[39m\n\u001B[0;32m   4409\u001B[0m )\n\u001B[1;32m-> 4410\u001B[0m \u001B[38;5;28;01mraise\u001B[39;00m \u001B[38;5;167;01mValueError\u001B[39;00m(message\u001B[38;5;241m.\u001B[39mformat(arn))\n",
      "\u001B[1;31mValueError\u001B[0m: The current AWS identity is not a role: arn:aws:iam::056057680849:user/cli_user, therefore it cannot be used as a SageMaker execution role"
     ]
    }
   ],
   "source": [
    "%%time\n",
    "\n",
    "import boto3\n",
    "import sagemaker\n",
    "\n",
    "from time import gmtime, strftime\n",
    "\n",
    "TIME_FORMAT = \"%Y%m%d_%H%M%S\"\n",
    "\n",
    "role = sagemaker.get_execution_role()\n",
    "region = boto3.Session().region_name\n",
    "job_name = f\"pruning_experiment_incremental-{strftime(TIME_FORMAT, gmtime())}\"\n",
    "print(\"Training job\", job_name)"
   ]
  },
  {
   "cell_type": "code",
   "execution_count": 24,
   "metadata": {},
   "outputs": [],
   "source": [
    "training_image = \"056057680849.dkr.ecr.us-east-1.amazonaws.com/chexnet-pruning-experiments:latest\""
   ]
  },
  {
   "cell_type": "code",
   "execution_count": 25,
   "metadata": {},
   "outputs": [],
   "source": [
    "SECONDS_IN_HOUR = 60*60\n",
    "HOURS = 120\n",
    "# estimator = PyTorch(\n",
    "#     entry_point=\"main_sagemaker.py\",\n",
    "# #     source_dir=\".\",\n",
    "#     instance_type=\"ml.p3.2xlarge\",\n",
    "#     instance_count=1,\n",
    "#     volume_size=92,\n",
    "#     role=role,\n",
    "#     max_run=HOURS * SECONDS_IN_HOUR,\n",
    "#     image_uri=\"763104351884.dkr.ecr.us-east-1.amazonaws.com/pytorch-inference:1.12.0-gpu-py38-cu116-ubuntu20.04-e3-v1.0\",\n",
    "#\n",
    "# )\n",
    "training_config = {\n",
    "    \"TrainingJobName\": job_name,\n",
    "    \"AlgorithmSpecification\": {\n",
    "        \"TrainingImage\": training_image,\n",
    "        \"TrainingInputMode\": \"File\"\n",
    "    },\n",
    "    \"RoleArn\": \"arn:aws:iam::056057680849:user/cli_user\",\n",
    "    \"OutputDataConfig\": {\"S3OutputPath\": f\"{output_bucket_path}/{output_prefix}/tf2-custom\"},\n",
    "    \"InputDataConfig\": [\n",
    "        {\n",
    "            \"ChannelName\": \"dataset\",\n",
    "            \"DataSource\": {\n",
    "                \"S3DataSource\": {\n",
    "                    \"S3DataType\": \"S3Prefix\",\n",
    "                    \"S3Uri\": \"s3://chexnet-dataset-division/\",\n",
    "                }\n",
    "            },\n",
    "        },\n",
    "        {\n",
    "            \"ChannelName\": \"database\",\n",
    "            \"DataSource\": {\n",
    "                \"S3DataSource\": {\n",
    "                    \"S3DataType\": \"S3Prefix\",\n",
    "                    \"S3Uri\": \"s3://chexnet-dataset-images/\",\n",
    "                }\n",
    "            },\n",
    "        },\n",
    "    ],\n",
    "    \"ResourceConfig\": {\n",
    "        \"InstanceType\": \"ml.p3.2xlarge\",\n",
    "        \"InstanceCount\": 1,\n",
    "        \"VolumeSizeInGB\": 92,\n",
    "     },\n",
    "    \"StoppingCondition\": {\n",
    "        \"MaxRuntimeInSeconds\": HOURS * SECONDS_IN_HOUR\n",
    "    }\n",
    "}"
   ]
  },
  {
   "cell_type": "code",
   "execution_count": 26,
   "metadata": {},
   "outputs": [
    {
     "name": "stdout",
     "output_type": "stream",
     "text": [
      "InProgress\n",
      "InProgress\n",
      "InProgress\n",
      "InProgress\n",
      "InProgress\n",
      "Completed\n"
     ]
    }
   ],
   "source": [
    "client = boto3.client(\"sagemaker\", region_name=region)\n",
    "client.create_training_job(**training_config)\n",
    "\n",
    "import time\n",
    "\n",
    "status = client.describe_training_job(TrainingJobName=job_name)[\"TrainingJobStatus\"]\n",
    "print(status)\n",
    "while status != \"Completed\" and status != \"Failed\":\n",
    "    time.sleep(60)\n",
    "    status = client.describe_training_job(TrainingJobName=job_name)[\"TrainingJobStatus\"]\n",
    "    print(status)"
   ]
  }
 ],
 "metadata": {
  "kernelspec": {
   "display_name": "Python 3",
   "language": "python",
   "name": "python3"
  },
  "language_info": {
   "codemirror_mode": {
    "name": "ipython",
    "version": 3
   },
   "file_extension": ".py",
   "mimetype": "text/x-python",
   "name": "python",
   "nbconvert_exporter": "python",
   "pygments_lexer": "ipython3",
   "version": "3.8.7"
  }
 },
 "nbformat": 4,
 "nbformat_minor": 4
}
